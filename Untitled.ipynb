{
 "cells": [
  {
   "cell_type": "code",
   "execution_count": 3,
   "id": "cac8cb89",
   "metadata": {},
   "outputs": [],
   "source": [
    "# 13 x 16 GridWorld\n",
    "BD = [\n",
    "    [1, 1, 1, 1, 1, 1, 1, 1, 1, 1, 1, 1, 1, 1, 1, 1],\n",
    "    [1, 0, 0, 0, 0, 0, 0, 0, 0, 0, 0, 0, 1, 1, 1, 1],\n",
    "    [1, 0, 0, 0, 0, 0, 0, 0, 0, 0, 0, 0, 1, 1, 1, 1],\n",
    "    [1, 0, 0, 0, 0, 0, 0, 0, 0, 0, 0, 0, 1, 1, 1, 1],\n",
    "    [1, 0, 0, 0, 0, 0, 0, 0, 0, 0, 0, 0, 1, 1, 1, 1],\n",
    "    [1, 0 ,0, 1, 1, 1, 1, 1, 1, 0, 0, 0, 0, 0, 0, 1],\n",
    "    [1, 0, 0, 1, 1, 0, 0, 1, 1, 0, 0, 0, 0, 0, 0, 1],\n",
    "    [1, 0, 0, 1, 1, 0, 0, 1, 1, 0, 0, 0, 0, 0, 0, 1],\n",
    "    [1, 0, 0, 0, 0, 0, 0, 0, 0, 0, 0, 0, 1, 1, 1, 1],\n",
    "    [1, 0, 0, 0, 0, 0, 0, 0, 0, 0, 0, 0, 1, 1, 1, 1],\n",
    "    [1, 0, 0, 0, 0, 0, 1, 1, 1, 0, 0, 0, 1, 1, 1, 1],\n",
    "    [1, 0, 0, 0, 0, 0, 1, 1, 1, 0, 0, 0, 1, 1, 1, 1],\n",
    "];"
   ]
  },
  {
   "cell_type": "code",
   "execution_count": 4,
   "id": "e6b32fe2",
   "metadata": {},
   "outputs": [],
   "source": [
    "E = [[0,0,0,0,1,1,0,0], [0,0,0,0,0,1,1,0], [0,0,0,0,1,1,1,0], [0,0,0,0,1,1,0,1],\n",
    "     [0,0,0,0,0,1,1,1], [1,0,0,0,0,1,1,0], [1,0,0,0,1,1,0,0], [0,0,0,0,1,1,1,1],\n",
    "     [1,0,0,0,1,1,1,0], [0,1,0,0,1,1,1,0], [0,1,0,0,1,1,1,1]\n",
    "     ]\n",
    "S = [[0,0,0,0,0,0,1,1], [1,0,0,0,0,0,0,1], [1,0,0,0,0,0,1,1], [1,1,0,0,0,0,0,1],\n",
    "     [0,1,0,0,0,0,1,1], [0,0,1,0,0,0,1,1], [1,0,1,0,0,0,0,1], [1,1,0,0,0,0,1,1],\n",
    "     [1,0,1,0,0,0,1,1], [1,0,0,1,0,0,1,1], [1,1,0,1,0,0,1,1]\n",
    "     ]\n",
    "\n",
    "W = [[1,1,0,0,0,0,0,0], [0,1,1,0,0,0,0,0], [1,1,1,0,0,0,0,0], [1,1,0,1,0,0,0,0],\n",
    "     [1,1,0,0,1,0,0,0], [0,1,1,0,1,0,0,0], [0,1,1,1,0,0,0,0], [1,1,1,1,0,0,0,0],\n",
    "     [1,1,1,0,1,0,0,0], [1,1,1,0,0,1,0,0], [1,1,1,1,0,1,0,0]\n",
    "     ]\n",
    "\n",
    "N = [[0,0,1,1,0,0,0,0], [0,0,0,1,1,0,0,0], [0,0,1,1,1,0,0,0], [0,0,1,1,0,1,0,0],\n",
    "     [0,0,1,1,0,0,1,0], [0,0,0,1,1,1,0,0], [0,0,0,1,1,0,1,0], [0,0,1,1,1,1,0,0],\n",
    "     [0,0,1,1,1,1,0,0], [0,0,1,1,1,0,1,0], [0,0,1,1,1,1,0,1]\n",
    "    ]"
   ]
  },
  {
   "cell_type": "code",
   "execution_count": 5,
   "id": "d47260e8",
   "metadata": {},
   "outputs": [],
   "source": [
    "X = list()\n",
    "X.extend(E)\n",
    "X.extend(S)\n",
    "X.extend(W)\n",
    "X.extend(N)"
   ]
  },
  {
   "cell_type": "code",
   "execution_count": 7,
   "id": "c8f10efe",
   "metadata": {},
   "outputs": [
    {
     "data": {
      "text/plain": [
       "44"
      ]
     },
     "execution_count": 7,
     "metadata": {},
     "output_type": "execute_result"
    }
   ],
   "source": [
    "len(X)"
   ]
  },
  {
   "cell_type": "code",
   "execution_count": 15,
   "id": "d71a48f8",
   "metadata": {},
   "outputs": [],
   "source": [
    "Y = []\n",
    "label = ['E', 'S', 'W', 'N']\n",
    "for i in range(len(label)):\n",
    "    for _ in range(11):\n",
    "        Y.append(label[i])"
   ]
  },
  {
   "cell_type": "code",
   "execution_count": 16,
   "id": "609a378f",
   "metadata": {},
   "outputs": [
    {
     "data": {
      "text/plain": [
       "['E',\n",
       " 'E',\n",
       " 'E',\n",
       " 'E',\n",
       " 'E',\n",
       " 'E',\n",
       " 'E',\n",
       " 'E',\n",
       " 'E',\n",
       " 'E',\n",
       " 'E',\n",
       " 'S',\n",
       " 'S',\n",
       " 'S',\n",
       " 'S',\n",
       " 'S',\n",
       " 'S',\n",
       " 'S',\n",
       " 'S',\n",
       " 'S',\n",
       " 'S',\n",
       " 'S',\n",
       " 'W',\n",
       " 'W',\n",
       " 'W',\n",
       " 'W',\n",
       " 'W',\n",
       " 'W',\n",
       " 'W',\n",
       " 'W',\n",
       " 'W',\n",
       " 'W',\n",
       " 'W',\n",
       " 'N',\n",
       " 'N',\n",
       " 'N',\n",
       " 'N',\n",
       " 'N',\n",
       " 'N',\n",
       " 'N',\n",
       " 'N',\n",
       " 'N',\n",
       " 'N',\n",
       " 'N']"
      ]
     },
     "execution_count": 16,
     "metadata": {},
     "output_type": "execute_result"
    }
   ],
   "source": [
    "Y"
   ]
  },
  {
   "cell_type": "markdown",
   "id": "0633fc7c",
   "metadata": {},
   "source": [
    "# Homework2"
   ]
  },
  {
   "cell_type": "code",
   "execution_count": 19,
   "id": "0939a2b0",
   "metadata": {},
   "outputs": [],
   "source": [
    "import numpy as np\n",
    "import matplotlib.pyplot as plt\n",
    "from sklearn.neural_network import MLPClassifier"
   ]
  },
  {
   "cell_type": "code",
   "execution_count": null,
   "id": "f0ca8564",
   "metadata": {},
   "outputs": [],
   "source": [
    "def moveBoy(GW, x):\n",
    "    x = [i, j]\n",
    "    \n",
    "    return action, x_next "
   ]
  }
 ],
 "metadata": {
  "kernelspec": {
   "display_name": "Python 3 (ipykernel)",
   "language": "python",
   "name": "python3"
  },
  "language_info": {
   "codemirror_mode": {
    "name": "ipython",
    "version": 3
   },
   "file_extension": ".py",
   "mimetype": "text/x-python",
   "name": "python",
   "nbconvert_exporter": "python",
   "pygments_lexer": "ipython3",
   "version": "3.9.12"
  }
 },
 "nbformat": 4,
 "nbformat_minor": 5
}
